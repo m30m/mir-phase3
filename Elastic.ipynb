{
 "cells": [
  {
   "cell_type": "markdown",
   "metadata": {},
   "source": [
    "## Read and assemble results"
   ]
  },
  {
   "cell_type": "code",
   "execution_count": 1,
   "metadata": {},
   "outputs": [],
   "source": [
    "RESULT_DIR = 'output'"
   ]
  },
  {
   "cell_type": "markdown",
   "metadata": {},
   "source": [
    "## Read Results"
   ]
  },
  {
   "cell_type": "code",
   "execution_count": 6,
   "metadata": {},
   "outputs": [],
   "source": [
    "import os\n",
    "import json\n",
    "from os import path\n",
    "\n",
    "blog_jsons = []\n",
    "post_comments = {}\n",
    "for json_file in os.listdir(RESULT_DIR):\n",
    "    uri = path.join(RESULT_DIR,json_file)\n",
    "    item = json.loads(open(uri).read())\n",
    "    if item['type'] == 'post':\n",
    "        post_comments[item['post_url']] = item['comment_urls']\n",
    "    else:\n",
    "        blog_jsons.append(item)"
   ]
  },
  {
   "cell_type": "markdown",
   "metadata": {},
   "source": [
    "## Function to convert to desired format"
   ]
  },
  {
   "cell_type": "code",
   "execution_count": 7,
   "metadata": {},
   "outputs": [],
   "source": [
    "def normalize_blog_url(url):\n",
    "    try:\n",
    "        return url[:(url.index('blog.ir') + len('blog.ir'))]\n",
    "    except ValueError:\n",
    "        return None\n",
    "\n",
    "def convert_blog(item):\n",
    "    blog_object = {}\n",
    "    blog_object['url'] = normalize_blog_url(item['blog_url'])\n",
    "    if not blog_object['url']:\n",
    "        return None\n",
    "    blog_object['title'] = item['blog_name']\n",
    "    blog_object['posts'] = []\n",
    "    for i in range(1,10):\n",
    "        if ('post_content_%d' % i) in item:\n",
    "            post_object = {}\n",
    "            post_object['post_content'] = item['post_content_%d' % i]\n",
    "            post_object['post_url'] = item['post_url_%d' % i]\n",
    "            post_object['post_title'] = item['post_title_%d' % i]\n",
    "            post_object['post_comments'] = []\n",
    "            for comment in post_comments.get(post_object['post_url'], []):\n",
    "                normalized_comment_url = normalize_blog_url(comment)\n",
    "                if normalized_comment_url:\n",
    "                    post_object['post_comments'].append({'comment_url': normalized_comment_url})\n",
    "            blog_object['posts'].append(post_object)\n",
    "    blog_object = {'blog': blog_object}\n",
    "    #print(json.dumps(blog_object,indent=2,ensure_ascii=False))\n",
    "    return blog_object\n",
    "    "
   ]
  },
  {
   "cell_type": "markdown",
   "metadata": {},
   "source": [
    "## Initialize Elastic Client"
   ]
  },
  {
   "cell_type": "code",
   "execution_count": 1,
   "metadata": {},
   "outputs": [],
   "source": [
    "from elasticsearch import Elasticsearch\n",
    "\n",
    "es = Elasticsearch(hosts=['127.0.0.1'])"
   ]
  },
  {
   "cell_type": "markdown",
   "metadata": {},
   "source": [
    "## Create Index"
   ]
  },
  {
   "cell_type": "code",
   "execution_count": 2,
   "metadata": {},
   "outputs": [],
   "source": [
    "INDEX_NAME = 'blog_index'"
   ]
  },
  {
   "cell_type": "markdown",
   "metadata": {},
   "source": [
    "## Remove everything from elasticsearch and start again"
   ]
  },
  {
   "cell_type": "code",
   "execution_count": 15,
   "metadata": {},
   "outputs": [
    {
     "data": {
      "text/plain": [
       "{'acknowledged': True}"
      ]
     },
     "execution_count": 15,
     "metadata": {},
     "output_type": "execute_result"
    }
   ],
   "source": [
    "es.indices.delete(index=INDEX_NAME)\n",
    "\n",
    "es.indices.create(index=INDEX_NAME, ignore=400)"
   ]
  },
  {
   "cell_type": "markdown",
   "metadata": {},
   "source": [
    "## Make blogs objects list"
   ]
  },
  {
   "cell_type": "code",
   "execution_count": 18,
   "metadata": {},
   "outputs": [],
   "source": [
    "blog_objects = [convert_blog(item) for item in blog_jsons]\n",
    "blog_objects = [blog for blog in blog_objects if blog]"
   ]
  },
  {
   "cell_type": "markdown",
   "metadata": {},
   "source": [
    "## Add to index"
   ]
  },
  {
   "cell_type": "code",
   "execution_count": 19,
   "metadata": {},
   "outputs": [],
   "source": [
    "for item in blog_objects:\n",
    "    es.index(index=INDEX_NAME, doc_type=\"blog\", id=item['blog']['url'], body=item)"
   ]
  },
  {
   "cell_type": "markdown",
   "metadata": {},
   "source": [
    "## Compute PageRank P Matrix"
   ]
  },
  {
   "cell_type": "code",
   "execution_count": 20,
   "metadata": {},
   "outputs": [],
   "source": [
    "import numpy as np\n",
    "\n",
    "def compute_blog_mapping(blog_objects):\n",
    "    mapping = {}\n",
    "    reverse_mapping = []\n",
    "    ctr = 0\n",
    "    for blog in blog_objects:\n",
    "        mapping[blog['blog']['url']] = ctr\n",
    "        reverse_mapping.append(blog['blog']['url'])\n",
    "        ctr += 1\n",
    "    return mapping, reverse_mapping, ctr\n",
    "\n",
    "\n",
    "def compute_page_rank(blog_objects, alpha):\n",
    "    mapping, reverse_mapping, n_blogs = compute_blog_mapping(blog_objects)\n",
    "    p_matrix = np.zeros(shape=(n_blogs, n_blogs), dtype=float)\n",
    "    for blog in blog_objects:\n",
    "        this_blog = mapping[blog['blog']['url']]\n",
    "        for post in blog['blog']['posts']:\n",
    "            for comment in post['post_comments']:\n",
    "                if comment['comment_url'] in mapping:\n",
    "                    neighbor_blog = mapping[comment['comment_url']]\n",
    "                    p_matrix[neighbor_blog, this_blog] = 1\n",
    "    for i in range(n_blogs):\n",
    "        if p_matrix[i].sum() == 0:\n",
    "            p_matrix[i] = np.ones(n_blogs) / n_blogs\n",
    "        else:\n",
    "            p_matrix[i] = (p_matrix[i] / p_matrix[i].sum()) * (1 - alpha) + (np.ones(n_blogs) / n_blogs) * alpha\n",
    "    eigenvals, eigenvecs = np.linalg.eig(p_matrix.T)\n",
    "    left_pricipal_eigen_vec = np.real(eigenvecs[:, eigenvals.argmax()].T)\n",
    "    page_rank = left_pricipal_eigen_vec / left_pricipal_eigen_vec.sum()\n",
    "    return dict(zip(reverse_mapping, page_rank))"
   ]
  },
  {
   "cell_type": "code",
   "execution_count": 21,
   "metadata": {},
   "outputs": [],
   "source": [
    "page_rank = compute_page_rank(blog_objects, 0.1)\n",
    "for url in page_rank:\n",
    "    es.update(index=INDEX_NAME, doc_type='blog', id=url, body={'doc': {'blog': {'page_rank': page_rank[url]}}})"
   ]
  },
  {
   "cell_type": "markdown",
   "metadata": {},
   "source": [
    "## Search"
   ]
  },
  {
   "cell_type": "code",
   "execution_count": 3,
   "metadata": {},
   "outputs": [],
   "source": [
    "def search(query, weights={}, pr_weight=0):\n",
    "    n_docs = es.count(index=INDEX_NAME, doc_type='blog')['count']\n",
    "    body_query = {\n",
    "        'query': {\n",
    "            'function_score': {\n",
    "                'query': {\n",
    "                    'bool': {\n",
    "                        'should': []\n",
    "                    }\n",
    "                },\n",
    "                'functions': [\n",
    "                    {\n",
    "                        'field_value_factor': {\n",
    "                            'field': 'blog.page_rank',\n",
    "                            'factor': n_docs * pr_weight,\n",
    "                        },\n",
    "                    },\n",
    "                ],\n",
    "                'boost_mode': 'sum',\n",
    "            }\n",
    "         }\n",
    "    }\n",
    "    for field in query:\n",
    "        body_query['query']['function_score']['query']['bool']['should'].append({\n",
    "            'match': { \n",
    "                'blog.' + field: {\n",
    "                    'query': query[field],\n",
    "                    'boost': weights.get(field, 1),\n",
    "                },\n",
    "            },\n",
    "        })\n",
    "    res = es.search(index=INDEX_NAME, doc_type='blog', body=body_query)\n",
    "    return [(hit['_source']['blog']['url'], hit['_source']['blog']['title'], hit['_source']['blog']['page_rank'],  hit['_score']) for hit in res['hits']['hits']]"
   ]
  },
  {
   "cell_type": "code",
   "execution_count": 4,
   "metadata": {},
   "outputs": [
    {
     "data": {
      "text/plain": [
       "[('http://raha1100.blog.ir', '✗من و تنهایی✗', 0.014597401011421764, 17.519613),\n",
       " ('http://best-world.blog.ir',\n",
       "  'گاه نوشت های من',\n",
       "  0.0004736475716262781,\n",
       "  16.6216),\n",
       " ('http://hesarman.blog.ir', 'حصار من', 0.012475031818105308, 15.336618),\n",
       " ('http://mahboobeh-k.blog.ir',\n",
       "  'گاه نوشت های من',\n",
       "  0.0005445151140428768,\n",
       "  11.896838),\n",
       " ('http://1moallem.blog.ir',\n",
       "  'گاه نوشت یک خانم معلم',\n",
       "  0.00011581067676829718,\n",
       "  7.1706457),\n",
       " ('http://mahmoudbanaei.blog.ir',\n",
       "  'گاه نگاری های یک مهندس',\n",
       "  0.0009483596977009462,\n",
       "  6.5440683),\n",
       " ('http://l-mydaily-l.blog.ir',\n",
       "  'گاه نوشت هایِ یک عددپشت کنکوری📚',\n",
       "  0.00011581067676829718,\n",
       "  6.5389566),\n",
       " ('http://history1391.blog.ir',\n",
       "  'گاه نوشته\\u200cهای من',\n",
       "  0.0010737227146008332,\n",
       "  6.5168233),\n",
       " ('http://hdana.blog.ir', 'نوشته های خیس من', 0.001051115065020101, 6.14952),\n",
       " ('http://dailylife.blog.ir',\n",
       "  'ذهن زیبای من',\n",
       "  0.0037071028491997707,\n",
       "  6.1379056)]"
      ]
     },
     "execution_count": 4,
     "metadata": {},
     "output_type": "execute_result"
    }
   ],
   "source": [
    "search(query={'title': 'گاه نوشت های من', 'url': 'best'}, pr_weight=1)"
   ]
  },
  {
   "cell_type": "markdown",
   "metadata": {},
   "source": [
    "## Testing"
   ]
  },
  {
   "cell_type": "markdown",
   "metadata": {},
   "source": [
    "Don't forget to run this for the first time:\n",
    "```\n",
    "jupyter nbextension enable --py widgetsnbextension\n",
    "```"
   ]
  },
  {
   "cell_type": "code",
   "execution_count": 15,
   "metadata": {},
   "outputs": [
    {
     "data": {
      "text/html": [
       "<p>Failed to display Jupyter Widget of type <code>Text</code>.</p>\n",
       "<p>\n",
       "  If you're reading this message in the Jupyter Notebook or JupyterLab Notebook, it may mean\n",
       "  that the widgets JavaScript is still loading. If this message persists, it\n",
       "  likely means that the widgets JavaScript library is either not installed or\n",
       "  not enabled. See the <a href=\"https://ipywidgets.readthedocs.io/en/stable/user_install.html\">Jupyter\n",
       "  Widgets Documentation</a> for setup instructions.\n",
       "</p>\n",
       "<p>\n",
       "  If you're reading this message in another frontend (for example, a static\n",
       "  rendering on GitHub or <a href=\"https://nbviewer.jupyter.org/\">NBViewer</a>),\n",
       "  it may mean that your frontend doesn't currently support widgets.\n",
       "</p>\n"
      ],
      "text/plain": [
       "Text(value='', description='Title')"
      ]
     },
     "metadata": {},
     "output_type": "execute_result"
    },
    {
     "data": {
      "text/html": [
       "<p>Failed to display Jupyter Widget of type <code>Text</code>.</p>\n",
       "<p>\n",
       "  If you're reading this message in the Jupyter Notebook or JupyterLab Notebook, it may mean\n",
       "  that the widgets JavaScript is still loading. If this message persists, it\n",
       "  likely means that the widgets JavaScript library is either not installed or\n",
       "  not enabled. See the <a href=\"https://ipywidgets.readthedocs.io/en/stable/user_install.html\">Jupyter\n",
       "  Widgets Documentation</a> for setup instructions.\n",
       "</p>\n",
       "<p>\n",
       "  If you're reading this message in another frontend (for example, a static\n",
       "  rendering on GitHub or <a href=\"https://nbviewer.jupyter.org/\">NBViewer</a>),\n",
       "  it may mean that your frontend doesn't currently support widgets.\n",
       "</p>\n"
      ],
      "text/plain": [
       "Text(value='', description='Url')"
      ]
     },
     "metadata": {},
     "output_type": "execute_result"
    },
    {
     "data": {
      "text/html": [
       "<p>Failed to display Jupyter Widget of type <code>Output</code>.</p>\n",
       "<p>\n",
       "  If you're reading this message in the Jupyter Notebook or JupyterLab Notebook, it may mean\n",
       "  that the widgets JavaScript is still loading. If this message persists, it\n",
       "  likely means that the widgets JavaScript library is either not installed or\n",
       "  not enabled. See the <a href=\"https://ipywidgets.readthedocs.io/en/stable/user_install.html\">Jupyter\n",
       "  Widgets Documentation</a> for setup instructions.\n",
       "</p>\n",
       "<p>\n",
       "  If you're reading this message in another frontend (for example, a static\n",
       "  rendering on GitHub or <a href=\"https://nbviewer.jupyter.org/\">NBViewer</a>),\n",
       "  it may mean that your frontend doesn't currently support widgets.\n",
       "</p>\n"
      ],
      "text/plain": [
       "Output()"
      ]
     },
     "metadata": {},
     "output_type": "execute_result"
    }
   ],
   "source": [
    "from ipywidgets import widgets\n",
    "from IPython.display import display, clear_output\n",
    "\n",
    "\n",
    "\n",
    "title_input = widgets.Text(description='Title')\n",
    "url_input = widgets.Text(description='Url')\n",
    "display(title_input)\n",
    "display(url_input)\n",
    "text_output = widgets.Output()\n",
    "display(text_output)\n",
    "\n",
    "\n",
    "def handle_submit(sender):\n",
    "    with text_output:\n",
    "        clear_output()\n",
    "        for result in search(query={'title': title_input.value, 'url': url_input.value}, pr_weight=1):\n",
    "            print(result)\n",
    "\n",
    "title_input.on_submit(handle_submit)\n",
    "url_input.on_submit(handle_submit)"
   ]
  }
 ],
 "metadata": {
  "kernelspec": {
   "display_name": "Python 3",
   "language": "python",
   "name": "python3"
  },
  "language_info": {
   "codemirror_mode": {
    "name": "ipython",
    "version": 3
   },
   "file_extension": ".py",
   "mimetype": "text/x-python",
   "name": "python",
   "nbconvert_exporter": "python",
   "pygments_lexer": "ipython3",
   "version": "3.5.2"
  }
 },
 "nbformat": 4,
 "nbformat_minor": 2
}
